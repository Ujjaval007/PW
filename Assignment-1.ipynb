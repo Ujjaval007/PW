{
 "cells": [
  {
   "cell_type": "code",
   "execution_count": 4,
   "id": "04ed35f9-8516-4b23-b1d5-49de15d815b5",
   "metadata": {},
   "outputs": [
    {
     "data": {
      "text/plain": [
       "str"
      ]
     },
     "execution_count": 4,
     "metadata": {},
     "output_type": "execute_result"
    }
   ],
   "source": [
    "a = \"python\"\n",
    "type(a)"
   ]
  },
  {
   "cell_type": "code",
   "execution_count": 5,
   "id": "cd2b2534-7438-48f9-b41e-e4725e9a5a3d",
   "metadata": {},
   "outputs": [
    {
     "data": {
      "text/plain": [
       "list"
      ]
     },
     "execution_count": 5,
     "metadata": {},
     "output_type": "execute_result"
    }
   ],
   "source": [
    "b = [11,2,3,'PW','@',2]\n",
    "type(b)"
   ]
  },
  {
   "cell_type": "code",
   "execution_count": 6,
   "id": "ae3c9604-98c3-4429-9796-ed404bcd3df5",
   "metadata": {},
   "outputs": [
    {
     "data": {
      "text/plain": [
       "float"
      ]
     },
     "execution_count": 6,
     "metadata": {},
     "output_type": "execute_result"
    }
   ],
   "source": [
    "c= 5.69\n",
    "type(c)"
   ]
  },
  {
   "cell_type": "code",
   "execution_count": 8,
   "id": "b84bd0d4-49c8-46fe-ba69-617627aee3bd",
   "metadata": {},
   "outputs": [
    {
     "data": {
      "text/plain": [
       "tuple"
      ]
     },
     "execution_count": 8,
     "metadata": {},
     "output_type": "execute_result"
    }
   ],
   "source": [
    "d = (1,2,3,'Python')\n",
    "type(d)"
   ]
  },
  {
   "cell_type": "code",
   "execution_count": 10,
   "id": "5230dcbd-8bbc-40aa-a23c-da1a49c603b4",
   "metadata": {},
   "outputs": [],
   "source": [
    "var1 = ''\n",
    "var2 = '[ DS , ML , Python]'\n",
    "var3 = [ 'DS' , 'ML' , 'Python' ]\n",
    "var4 = 1"
   ]
  },
  {
   "cell_type": "code",
   "execution_count": 15,
   "id": "6f885b6d-d3eb-4991-8b6f-a0ce96d5f173",
   "metadata": {},
   "outputs": [
    {
     "name": "stdout",
     "output_type": "stream",
     "text": [
      "<class 'str'>\n",
      "<class 'str'>\n",
      "<class 'list'>\n",
      "<class 'int'>\n"
     ]
    }
   ],
   "source": [
    "print(type(var1))\n",
    "print(type(var2))\n",
    "print(type(var3))\n",
    "print(type(var4))\n",
    "\n"
   ]
  },
  {
   "cell_type": "markdown",
   "id": "b046419d-87c1-4dd9-8edb-55c0d9d02038",
   "metadata": {},
   "source": [
    "(i) / (division)\n",
    "\n",
    "The division operator in Python is used to divide the first operand by the second operand. The result is a floating-point number."
   ]
  },
  {
   "cell_type": "code",
   "execution_count": 16,
   "id": "b87725a3-d8d0-48db-a767-e3e63fb83635",
   "metadata": {},
   "outputs": [
    {
     "data": {
      "text/plain": [
       "5.0"
      ]
     },
     "execution_count": 16,
     "metadata": {},
     "output_type": "execute_result"
    }
   ],
   "source": [
    "10 / 2"
   ]
  },
  {
   "cell_type": "markdown",
   "id": "27568e35-ec87-4f99-ac5c-a54b24a4fed5",
   "metadata": {},
   "source": [
    "(ii) % (modulus)\n",
    "\n",
    "The modulus operator in Python is used to return the remainder of a division operation. The result is an integer."
   ]
  },
  {
   "cell_type": "code",
   "execution_count": 17,
   "id": "0db2e93e-f54f-4eab-aeb1-30aa383f3f7c",
   "metadata": {},
   "outputs": [
    {
     "data": {
      "text/plain": [
       "0"
      ]
     },
     "execution_count": 17,
     "metadata": {},
     "output_type": "execute_result"
    }
   ],
   "source": [
    "10 % 2"
   ]
  },
  {
   "cell_type": "markdown",
   "id": "962ff5be-7bb7-4484-90f4-2f1c808e9c0f",
   "metadata": {},
   "source": [
    "(iii) // (floor division)\n",
    "\n",
    "The floor division operator in Python is used to divide the first operand by the second operand, and then round down the result to the nearest integer."
   ]
  },
  {
   "cell_type": "code",
   "execution_count": 18,
   "id": "b556e3ab-16f0-49ae-bfce-fc0400fc6d33",
   "metadata": {},
   "outputs": [
    {
     "data": {
      "text/plain": [
       "3"
      ]
     },
     "execution_count": 18,
     "metadata": {},
     "output_type": "execute_result"
    }
   ],
   "source": [
    "10 // 3"
   ]
  },
  {
   "cell_type": "markdown",
   "id": "247a09a2-b33d-428d-9480-2246db8b8dce",
   "metadata": {},
   "source": [
    "(iv) ** (exponentiation)\n",
    "\n",
    "The exponentiation operator in Python is used to raise the first operand to the power of the second operand. "
   ]
  },
  {
   "cell_type": "code",
   "execution_count": 19,
   "id": "f1e48656-a1f6-49fe-9ddb-1c0006d89d2e",
   "metadata": {},
   "outputs": [
    {
     "data": {
      "text/plain": [
       "8"
      ]
     },
     "execution_count": 19,
     "metadata": {},
     "output_type": "execute_result"
    }
   ],
   "source": [
    "2 ** 3"
   ]
  },
  {
   "cell_type": "code",
   "execution_count": 20,
   "id": "d65d1bb2-385b-489a-8feb-3690855691a7",
   "metadata": {},
   "outputs": [],
   "source": [
    "my_list = [1, \"Hello\", True, 3.14, \"world\", \"!\", (1, 2, 3), {\"a\": 1, \"b\": 2}, \"The end\"]\n"
   ]
  },
  {
   "cell_type": "code",
   "execution_count": 21,
   "id": "adf03c91-589d-4872-a299-7cdd2059bb66",
   "metadata": {},
   "outputs": [
    {
     "name": "stdout",
     "output_type": "stream",
     "text": [
      "1 <class 'int'>\n",
      "Hello <class 'str'>\n",
      "True <class 'bool'>\n",
      "3.14 <class 'float'>\n",
      "world <class 'str'>\n",
      "! <class 'str'>\n",
      "(1, 2, 3) <class 'tuple'>\n",
      "{'a': 1, 'b': 2} <class 'dict'>\n",
      "The end <class 'str'>\n"
     ]
    }
   ],
   "source": [
    "for element in my_list:\n",
    "    print(element, type(element))"
   ]
  },
  {
   "cell_type": "code",
   "execution_count": 22,
   "id": "efde39e6-4849-4483-90c6-abb76c871698",
   "metadata": {},
   "outputs": [
    {
     "name": "stdin",
     "output_type": "stream",
     "text": [
      "Enter the first number:  10\n",
      "Enter the second number:  5\n"
     ]
    },
    {
     "name": "stdout",
     "output_type": "stream",
     "text": [
      "The number 2 is divisible by 5 1 times.\n"
     ]
    }
   ],
   "source": [
    "# Get the input from the user\n",
    "a = int(input(\"Enter the first number: \"))\n",
    "b = int(input(\"Enter the second number: \"))\n",
    "\n",
    "# Initialize the counter\n",
    "count = 0\n",
    "\n",
    "# Start the while loop\n",
    "while a % b == 0:\n",
    "    # Increment the counter\n",
    "    count += 1\n",
    "    # Divide the first number by the second number\n",
    "    a //= b\n",
    "\n",
    "# Check if the counter is greater than 0\n",
    "if count > 0:\n",
    "    # Print the result\n",
    "    print(f\"The number {a} is divisible by {b} {count} times.\")\n",
    "else:\n",
    "    # Print the result\n",
    "    print(f\"The number {a} is not divisible by {b}.\")"
   ]
  },
  {
   "cell_type": "code",
   "execution_count": 23,
   "id": "ebb5410e-0b8c-4369-90ee-849a12b9ccf9",
   "metadata": {},
   "outputs": [
    {
     "name": "stdout",
     "output_type": "stream",
     "text": [
      "The element 1 is not divisible by 3\n",
      "The element 2 is not divisible by 3\n",
      "The element 3 is divisible by 3\n",
      "The element 4 is not divisible by 3\n",
      "The element 5 is not divisible by 3\n",
      "The element 6 is divisible by 3\n",
      "The element 7 is not divisible by 3\n",
      "The element 8 is not divisible by 3\n",
      "The element 9 is divisible by 3\n",
      "The element 10 is not divisible by 3\n",
      "The element 11 is not divisible by 3\n",
      "The element 12 is divisible by 3\n",
      "The element 13 is not divisible by 3\n",
      "The element 14 is not divisible by 3\n",
      "The element 15 is divisible by 3\n",
      "The element 16 is not divisible by 3\n",
      "The element 17 is not divisible by 3\n",
      "The element 18 is divisible by 3\n",
      "The element 19 is not divisible by 3\n",
      "The element 20 is not divisible by 3\n",
      "The element 21 is divisible by 3\n",
      "The element 22 is not divisible by 3\n",
      "The element 23 is not divisible by 3\n",
      "The element 24 is divisible by 3\n",
      "The element 25 is not divisible by 3\n"
     ]
    }
   ],
   "source": [
    "# Create a list of 25 int type data\n",
    "my_list = [1, 2, 3, 4, 5, 6, 7, 8, 9, 10, 11, 12, 13, 14, 15, 16, 17, 18, 19, 20, 21, 22, 23, 24, 25]\n",
    "\n",
    "# Use a for loop to iterate over the list\n",
    "for element in my_list:\n",
    "    # Check if the element is divisible by 3\n",
    "    if element % 3 == 0:\n",
    "        # Print \"The element is divisible by 3\"\n",
    "        print(f\"The element {element} is divisible by 3\")\n",
    "    else:\n",
    "        # Print \"The element is not divisible by 3\"\n",
    "        print(f\"The element {element} is not divisible by 3\")"
   ]
  },
  {
   "cell_type": "code",
   "execution_count": null,
   "id": "c219f945-0c26-44d6-b480-8b73631b9f12",
   "metadata": {},
   "outputs": [],
   "source": []
  },
  {
   "cell_type": "markdown",
   "id": "82cab2f6-bfb5-45f0-80da-68280f03566b",
   "metadata": {},
   "source": [
    "In Python, data types can be classified as mutable or immutable. Mutable data types are those that can be changed after they are created, while immutable data types cannot be changed after they are created.\n",
    "\n",
    "examples of mutable data types :\n",
    "\n",
    "Lists\n",
    "Dictionaries\n",
    "Sets\n",
    "User-defined classes\n",
    "\n",
    "examples of immutable data types:\n",
    "\n",
    "Integers\n",
    "Floats\n",
    "Booleans\n",
    "Strings\n",
    "Tuples"
   ]
  },
  {
   "cell_type": "code",
   "execution_count": 26,
   "id": "687b123f-50c1-43e3-84b2-e7a6a5487552",
   "metadata": {},
   "outputs": [],
   "source": [
    "my_list = [1, 2, 3]"
   ]
  },
  {
   "cell_type": "code",
   "execution_count": 25,
   "id": "d1a13aed-af31-46ba-b3d6-32512aa9df09",
   "metadata": {},
   "outputs": [],
   "source": [
    "my_tuple = (1, 2, 3)\n"
   ]
  },
  {
   "cell_type": "code",
   "execution_count": 27,
   "id": "2817059b-5cff-43bf-8943-b8d7c675ae60",
   "metadata": {},
   "outputs": [],
   "source": [
    "my_list[0] = 10\n"
   ]
  },
  {
   "cell_type": "code",
   "execution_count": 28,
   "id": "2eef7146-76d6-43f9-82d9-b0847c17929c",
   "metadata": {},
   "outputs": [
    {
     "data": {
      "text/plain": [
       "[10, 2, 3]"
      ]
     },
     "execution_count": 28,
     "metadata": {},
     "output_type": "execute_result"
    }
   ],
   "source": [
    "my_list"
   ]
  },
  {
   "cell_type": "code",
   "execution_count": 29,
   "id": "b73e3037-be26-481b-b5ed-a3dc3fe56e19",
   "metadata": {},
   "outputs": [
    {
     "ename": "TypeError",
     "evalue": "'tuple' object does not support item assignment",
     "output_type": "error",
     "traceback": [
      "\u001b[0;31m---------------------------------------------------------------------------\u001b[0m",
      "\u001b[0;31mTypeError\u001b[0m                                 Traceback (most recent call last)",
      "Cell \u001b[0;32mIn[29], line 1\u001b[0m\n\u001b[0;32m----> 1\u001b[0m \u001b[43mmy_tuple\u001b[49m\u001b[43m[\u001b[49m\u001b[38;5;241;43m0\u001b[39;49m\u001b[43m]\u001b[49m \u001b[38;5;241m=\u001b[39m \u001b[38;5;241m10\u001b[39m\n",
      "\u001b[0;31mTypeError\u001b[0m: 'tuple' object does not support item assignment"
     ]
    }
   ],
   "source": [
    "my_tuple[0] = 10\n"
   ]
  },
  {
   "cell_type": "code",
   "execution_count": null,
   "id": "359a3d8a-730d-4c06-be08-fd5158c33f56",
   "metadata": {},
   "outputs": [],
   "source": []
  }
 ],
 "metadata": {
  "kernelspec": {
   "display_name": "Python 3 (ipykernel)",
   "language": "python",
   "name": "python3"
  },
  "language_info": {
   "codemirror_mode": {
    "name": "ipython",
    "version": 3
   },
   "file_extension": ".py",
   "mimetype": "text/x-python",
   "name": "python",
   "nbconvert_exporter": "python",
   "pygments_lexer": "ipython3",
   "version": "3.10.8"
  }
 },
 "nbformat": 4,
 "nbformat_minor": 5
}
