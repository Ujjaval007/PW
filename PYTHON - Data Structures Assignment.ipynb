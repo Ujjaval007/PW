{
 "cells": [
  {
   "cell_type": "markdown",
   "id": "e03dc4a7-6518-4910-aca6-c82334d38aa5",
   "metadata": {},
   "source": [
    "1. How do you comment code in Python? What are the different types of comments?"
   ]
  },
  {
   "cell_type": "markdown",
   "id": "b4b3e70c-d579-46ad-8620-7f2be8ecef53",
   "metadata": {},
   "source": [
    "Comments in the code can be added using # sign , we can also use docstrins for longer comments. docstrings are enclosed within triple quotes (''' or \"\"\") \n",
    " in single line comments we generally use # sign\n",
    " and for multiline and longer explanation we use docstring \n",
    " \n",
    " Below are examples\n",
    "\n"
   ]
  },
  {
   "cell_type": "code",
   "execution_count": 1,
   "id": "80b6e785-787a-4ed1-92d9-ea96fad3f3bc",
   "metadata": {},
   "outputs": [
    {
     "name": "stdout",
     "output_type": "stream",
     "text": [
      "Hello, World!\n"
     ]
    }
   ],
   "source": [
    "print(\"Hello, World!\")  # This line is comment and code will print hello world\n"
   ]
  },
  {
   "cell_type": "code",
   "execution_count": 2,
   "id": "5d1bc229-df75-467a-a8aa-a1a062ea42ce",
   "metadata": {},
   "outputs": [],
   "source": [
    "def add_numbers(a, b):\n",
    "    \"\"\"\n",
    "    This is a multi-line comment (docstring).\n",
    "    It documents the purpose and usage of the function.\n",
    "    \n",
    "    here this function takes two inpute values and will return their summation\n",
    "    \"\"\"\n",
    "    return a + b"
   ]
  },
  {
   "cell_type": "code",
   "execution_count": 4,
   "id": "af1e98f1-ec59-48f7-b2ca-dfcc11fd3d0b",
   "metadata": {},
   "outputs": [
    {
     "name": "stdout",
     "output_type": "stream",
     "text": [
      "\n",
      "    This is a multi-line comment (docstring).\n",
      "    It documents the purpose and usage of the function.\n",
      "    \n",
      "    here this function takes two inpute values and will return their summation\n",
      "    \n"
     ]
    }
   ],
   "source": [
    "print(add_numbers.__doc__)"
   ]
  },
  {
   "cell_type": "code",
   "execution_count": null,
   "id": "915b8e34-1bff-43cc-9c04-44684fa94704",
   "metadata": {},
   "outputs": [],
   "source": []
  },
  {
   "cell_type": "markdown",
   "id": "646a2186-2ad9-41b4-b346-3d49e87b0a71",
   "metadata": {},
   "source": [
    "2. What are variables in Python? How do you declare and assign values to variables?"
   ]
  },
  {
   "cell_type": "markdown",
   "id": "428e6003-fa16-43c6-82a7-364daaddb728",
   "metadata": {},
   "source": [
    " A variable is like a container that holds a particular value, and the value can be of various data types, such as numbers, strings, lists, dictionaries, etc."
   ]
  },
  {
   "cell_type": "code",
   "execution_count": 5,
   "id": "493f0fd5-a509-4bf7-9529-6905b94306e2",
   "metadata": {},
   "outputs": [],
   "source": [
    "# Integer variable\n",
    "age = 55\n",
    "\n",
    "# Float variable\n",
    "pi = 3.14\n",
    "\n",
    "# String variable\n",
    "name = \"Uj Rana\"\n",
    "\n",
    "# Boolean variable\n",
    "is_student = True\n",
    "\n",
    "# List variable\n",
    "numbers = [1, 2, 3, 4, 5]\n",
    "\n",
    "# Dictionary variable\n",
    "person = {'name': 'Uja', 'age': 30, 'occupation': 'Student'}"
   ]
  },
  {
   "cell_type": "code",
   "execution_count": 6,
   "id": "17756afc-5ea8-4e6d-bcc1-6dc627d81bde",
   "metadata": {},
   "outputs": [
    {
     "data": {
      "text/plain": [
       "55"
      ]
     },
     "execution_count": 6,
     "metadata": {},
     "output_type": "execute_result"
    }
   ],
   "source": [
    "age"
   ]
  },
  {
   "cell_type": "code",
   "execution_count": 7,
   "id": "9ae90b24-74a7-437d-bc53-e5baa0df0cf2",
   "metadata": {},
   "outputs": [
    {
     "data": {
      "text/plain": [
       "3.14"
      ]
     },
     "execution_count": 7,
     "metadata": {},
     "output_type": "execute_result"
    }
   ],
   "source": [
    "pi"
   ]
  },
  {
   "cell_type": "code",
   "execution_count": 8,
   "id": "f8a93672-8633-41e0-8663-b2ced776aa07",
   "metadata": {},
   "outputs": [
    {
     "data": {
      "text/plain": [
       "'Uj Rana'"
      ]
     },
     "execution_count": 8,
     "metadata": {},
     "output_type": "execute_result"
    }
   ],
   "source": [
    "name"
   ]
  },
  {
   "cell_type": "code",
   "execution_count": 9,
   "id": "4328517c-0673-46d2-a305-272adb58a648",
   "metadata": {},
   "outputs": [
    {
     "data": {
      "text/plain": [
       "True"
      ]
     },
     "execution_count": 9,
     "metadata": {},
     "output_type": "execute_result"
    }
   ],
   "source": [
    "is_student"
   ]
  },
  {
   "cell_type": "code",
   "execution_count": 10,
   "id": "a2386801-be85-48ce-b631-0bcb39c39b31",
   "metadata": {},
   "outputs": [
    {
     "data": {
      "text/plain": [
       "[1, 2, 3, 4, 5]"
      ]
     },
     "execution_count": 10,
     "metadata": {},
     "output_type": "execute_result"
    }
   ],
   "source": [
    "numbers"
   ]
  },
  {
   "cell_type": "code",
   "execution_count": 17,
   "id": "180eadf3-8b26-4ddf-9bee-b69cf65c7184",
   "metadata": {},
   "outputs": [
    {
     "data": {
      "text/plain": [
       "'Uja'"
      ]
     },
     "execution_count": 17,
     "metadata": {},
     "output_type": "execute_result"
    }
   ],
   "source": [
    "person['name']"
   ]
  },
  {
   "cell_type": "code",
   "execution_count": null,
   "id": "207e4f61-97a3-47fd-825c-a12d162c782f",
   "metadata": {},
   "outputs": [],
   "source": []
  },
  {
   "cell_type": "markdown",
   "id": "57a496e1-3640-49e8-b2d7-2bb4084979fd",
   "metadata": {},
   "source": [
    "3. How do you convert one data type to another in Python?\n"
   ]
  },
  {
   "cell_type": "markdown",
   "id": "0e1e8664-2422-4335-8efe-a1aff2ca42e1",
   "metadata": {},
   "source": [
    "We can convert one data type to another using type casting or type conversion functions"
   ]
  },
  {
   "cell_type": "code",
   "execution_count": 18,
   "id": "7fbdd6d4-cd9f-4c11-8cc0-8c225b369f3a",
   "metadata": {},
   "outputs": [],
   "source": [
    "num_str = \"42\"\n"
   ]
  },
  {
   "cell_type": "code",
   "execution_count": 20,
   "id": "d1c773b7-6919-48ad-88cb-9b1343b2d397",
   "metadata": {},
   "outputs": [
    {
     "data": {
      "text/plain": [
       "str"
      ]
     },
     "execution_count": 20,
     "metadata": {},
     "output_type": "execute_result"
    }
   ],
   "source": [
    "type(num_str)"
   ]
  },
  {
   "cell_type": "code",
   "execution_count": 21,
   "id": "ed603b9d-1671-4d24-bd6c-de3f82f76fca",
   "metadata": {},
   "outputs": [],
   "source": [
    "num_int = int(num_str)"
   ]
  },
  {
   "cell_type": "code",
   "execution_count": 23,
   "id": "0e6619f4-b030-4d6f-88da-8fba63f3852c",
   "metadata": {},
   "outputs": [
    {
     "data": {
      "text/plain": [
       "int"
      ]
     },
     "execution_count": 23,
     "metadata": {},
     "output_type": "execute_result"
    }
   ],
   "source": [
    "type(num_int) # value is converted to integer"
   ]
  },
  {
   "cell_type": "code",
   "execution_count": 24,
   "id": "c3528f58-4b58-4167-8f63-5ff7cdfea072",
   "metadata": {},
   "outputs": [],
   "source": [
    "num_float = float(num_str)"
   ]
  },
  {
   "cell_type": "code",
   "execution_count": 25,
   "id": "f494186e-c040-4182-a9fd-7533ac285ed3",
   "metadata": {},
   "outputs": [
    {
     "data": {
      "text/plain": [
       "42.0"
      ]
     },
     "execution_count": 25,
     "metadata": {},
     "output_type": "execute_result"
    }
   ],
   "source": [
    "num_float"
   ]
  },
  {
   "cell_type": "code",
   "execution_count": 27,
   "id": "59b340f5-0a74-407e-b0a7-4e84db0343f1",
   "metadata": {},
   "outputs": [
    {
     "data": {
      "text/plain": [
       "float"
      ]
     },
     "execution_count": 27,
     "metadata": {},
     "output_type": "execute_result"
    }
   ],
   "source": [
    "type(num_float)# value is converted to float"
   ]
  },
  {
   "cell_type": "code",
   "execution_count": 28,
   "id": "4600e8fc-3ddd-4e6c-9b21-1be4f3713e00",
   "metadata": {},
   "outputs": [
    {
     "name": "stdout",
     "output_type": "stream",
     "text": [
      "[1, 2, 3]\n"
     ]
    }
   ],
   "source": [
    "num_tuple = (1, 2, 3)\n",
    "num_list = list(num_tuple)\n",
    "print(num_list)\n",
    "\n",
    "\n"
   ]
  },
  {
   "cell_type": "code",
   "execution_count": 29,
   "id": "0d442819-318b-41ef-986f-c9271ed12897",
   "metadata": {},
   "outputs": [
    {
     "name": "stdout",
     "output_type": "stream",
     "text": [
      "{1, 2, 3}\n"
     ]
    }
   ],
   "source": [
    "num_set = set(num_list)\n",
    "print(num_set)"
   ]
  },
  {
   "cell_type": "code",
   "execution_count": 30,
   "id": "3a4fe7b4-5296-4edc-adc2-08fc6804d8e9",
   "metadata": {},
   "outputs": [
    {
     "name": "stdout",
     "output_type": "stream",
     "text": [
      "{'a': 1, 'b': 2, 'c': 3}\n"
     ]
    }
   ],
   "source": [
    "pairs = [(\"a\", 1), (\"b\", 2), (\"c\", 3)]\n",
    "my_dict = dict(pairs)\n",
    "print(my_dict) "
   ]
  },
  {
   "cell_type": "markdown",
   "id": "5006a661-4d93-4d99-a781-87a5dd6406c0",
   "metadata": {},
   "source": [
    "4. How do you write and execute a Python script from the command line?"
   ]
  },
  {
   "cell_type": "markdown",
   "id": "c02599f4-42ce-4188-bc2d-31008c42898a",
   "metadata": {},
   "source": [
    "We can use any text editor or any IDE to write python script and we have to save it as .py file name once it is saved \n",
    "\n",
    "From Comand line we have to type below shown command\n",
    "\n",
    "python filename.py\n",
    "\n",
    "\n",
    "This will give instruction to my python version to run that python script"
   ]
  },
  {
   "cell_type": "markdown",
   "id": "321cb795-b4bb-4411-a75a-3bcdfbcebbd8",
   "metadata": {},
   "source": [
    "5. Given a list my_list = [1, 2, 3, 4, 5], write the code to slice the list and obtain the sub-list [2, 3]."
   ]
  },
  {
   "cell_type": "code",
   "execution_count": 31,
   "id": "3a98f12d-2272-4c38-9153-44a58bf97957",
   "metadata": {},
   "outputs": [],
   "source": [
    "my_list = [1, 2, 3, 4, 5]\n"
   ]
  },
  {
   "cell_type": "code",
   "execution_count": 33,
   "id": "5b7d5f37-8afe-4b1c-90b0-f51e982818c9",
   "metadata": {},
   "outputs": [
    {
     "data": {
      "text/plain": [
       "[1, 2, 3, 4, 5]"
      ]
     },
     "execution_count": 33,
     "metadata": {},
     "output_type": "execute_result"
    }
   ],
   "source": [
    "my_list"
   ]
  },
  {
   "cell_type": "code",
   "execution_count": 34,
   "id": "b8bc1dbc-c892-44b8-9966-66a8b2ac9ccb",
   "metadata": {},
   "outputs": [],
   "source": [
    "sub_list = my_list[1:3]"
   ]
  },
  {
   "cell_type": "code",
   "execution_count": 35,
   "id": "a556e2d6-92ff-4e10-8fbb-069798f1b774",
   "metadata": {},
   "outputs": [
    {
     "data": {
      "text/plain": [
       "[2, 3]"
      ]
     },
     "execution_count": 35,
     "metadata": {},
     "output_type": "execute_result"
    }
   ],
   "source": [
    "sub_list"
   ]
  },
  {
   "cell_type": "markdown",
   "id": "05c5645c-391b-4f05-9ca4-0a665d011b61",
   "metadata": {},
   "source": [
    "6. What is a complex number in mathematics, and how is it represented in Python?\n"
   ]
  },
  {
   "cell_type": "markdown",
   "id": "8a21529c-5bdf-476d-bb57-f2bb934238b8",
   "metadata": {},
   "source": [
    "In mathematics, a complex number is a number of the form a + bi, where a and b are real numbers, and i is the imaginary unit defined as the square root of -1. The real part of the complex number is a, and the imaginary part is bi. The imaginary unit i is used to represent the square root of -1 and forms the basis for complex numbers."
   ]
  },
  {
   "cell_type": "code",
   "execution_count": 38,
   "id": "bd17deb1-906c-479d-a852-65055a12820d",
   "metadata": {},
   "outputs": [],
   "source": [
    "# Define complex numbers\n",
    "z1 = 2 + 3j"
   ]
  },
  {
   "cell_type": "code",
   "execution_count": 39,
   "id": "14921485-127c-4439-8c61-0d589e5d0594",
   "metadata": {},
   "outputs": [
    {
     "data": {
      "text/plain": [
       "complex"
      ]
     },
     "execution_count": 39,
     "metadata": {},
     "output_type": "execute_result"
    }
   ],
   "source": [
    "type(z1)"
   ]
  },
  {
   "cell_type": "markdown",
   "id": "dde4ebc8-9619-4cb6-add7-c3e25934e7e8",
   "metadata": {},
   "source": [
    "7. What is the correct way to declare a variable named age and assign the value 25 to it?"
   ]
  },
  {
   "cell_type": "code",
   "execution_count": 41,
   "id": "e2877550-2bb3-4092-aae4-aedec57ae5a6",
   "metadata": {},
   "outputs": [],
   "source": [
    "age = int(25)\n"
   ]
  },
  {
   "cell_type": "code",
   "execution_count": 42,
   "id": "0f2f31e2-5d30-414b-b605-efd672f85ab5",
   "metadata": {},
   "outputs": [
    {
     "data": {
      "text/plain": [
       "25"
      ]
     },
     "execution_count": 42,
     "metadata": {},
     "output_type": "execute_result"
    }
   ],
   "source": [
    "age"
   ]
  },
  {
   "cell_type": "markdown",
   "id": "097e9ad7-da85-41a1-bf86-ea7c948c64d0",
   "metadata": {},
   "source": [
    "8. Declare a variable named price and assign the value 9.99 to it. What data type does this variable belong to?"
   ]
  },
  {
   "cell_type": "code",
   "execution_count": 43,
   "id": "1dea2700-809d-4ad7-8112-fd714ce78c5d",
   "metadata": {},
   "outputs": [],
   "source": [
    "price = 9.99"
   ]
  },
  {
   "cell_type": "code",
   "execution_count": 45,
   "id": "96a85653-c09d-4d66-b9eb-029177349631",
   "metadata": {},
   "outputs": [
    {
     "data": {
      "text/plain": [
       "float"
      ]
     },
     "execution_count": 45,
     "metadata": {},
     "output_type": "execute_result"
    }
   ],
   "source": [
    "type(price) #python autometically recognizes it as float when we asign it to variable"
   ]
  },
  {
   "cell_type": "markdown",
   "id": "22c98d51-c003-41a6-90f2-6d03e4bea14b",
   "metadata": {},
   "source": [
    "9. Create a variable named name and assign your full name to it as a string. How would you print the\n",
    "value of this variable?"
   ]
  },
  {
   "cell_type": "code",
   "execution_count": 46,
   "id": "152f9080-096a-45a0-8c7e-06795de0ebeb",
   "metadata": {},
   "outputs": [
    {
     "name": "stdout",
     "output_type": "stream",
     "text": [
      "Uj Rana\n"
     ]
    }
   ],
   "source": [
    "name = \"Uj Rana\"\n",
    "print(name)"
   ]
  },
  {
   "cell_type": "code",
   "execution_count": null,
   "id": "d5f26c6e-b274-4f72-8613-1ef5086af718",
   "metadata": {},
   "outputs": [],
   "source": []
  },
  {
   "cell_type": "markdown",
   "id": "666f9d9d-eb27-4bd5-8d25-e94bc4d71484",
   "metadata": {},
   "source": [
    "10. Given the string \"Hello, World!\", extract the substring \"World\"."
   ]
  },
  {
   "cell_type": "code",
   "execution_count": 47,
   "id": "a445a36f-bd68-48d7-b2e9-f0f42239f4cd",
   "metadata": {},
   "outputs": [
    {
     "name": "stdout",
     "output_type": "stream",
     "text": [
      "World\n"
     ]
    }
   ],
   "source": [
    "my_string = \"Hello, World!\"\n",
    "print(my_string[7:12])"
   ]
  },
  {
   "cell_type": "markdown",
   "id": "91a23acb-1c68-42e7-aa38-5b35479a1162",
   "metadata": {},
   "source": [
    "11. Create a variable named \"is_student\" and assign it a boolean value indicating whether you are\n",
    "currently a student or not"
   ]
  },
  {
   "cell_type": "code",
   "execution_count": 48,
   "id": "87f53f42-ff46-4455-962f-5b1531d592c0",
   "metadata": {},
   "outputs": [],
   "source": [
    "is_student = False"
   ]
  },
  {
   "cell_type": "code",
   "execution_count": null,
   "id": "ed7b9d0e-8d7c-42e0-886d-f1a62230ed0b",
   "metadata": {},
   "outputs": [],
   "source": []
  }
 ],
 "metadata": {
  "kernelspec": {
   "display_name": "Python 3 (ipykernel)",
   "language": "python",
   "name": "python3"
  },
  "language_info": {
   "codemirror_mode": {
    "name": "ipython",
    "version": 3
   },
   "file_extension": ".py",
   "mimetype": "text/x-python",
   "name": "python",
   "nbconvert_exporter": "python",
   "pygments_lexer": "ipython3",
   "version": "3.10.8"
  }
 },
 "nbformat": 4,
 "nbformat_minor": 5
}
